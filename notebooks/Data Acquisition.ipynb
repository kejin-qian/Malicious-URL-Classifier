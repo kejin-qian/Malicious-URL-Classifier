{
 "cells": [
  {
   "cell_type": "markdown",
   "metadata": {},
   "source": [
    "## Import Packages"
   ]
  },
  {
   "cell_type": "code",
   "execution_count": 2,
   "metadata": {},
   "outputs": [],
   "source": [
    "import pandas as pd\n",
    "import numpy as np\n",
    "import io\n",
    "import urllib.request"
   ]
  },
  {
   "cell_type": "markdown",
   "metadata": {},
   "source": [
    "## Download data from source links"
   ]
  },
  {
   "cell_type": "code",
   "execution_count": 48,
   "metadata": {},
   "outputs": [
    {
     "data": {
      "text/plain": [
       "('GoodURL.csv', <http.client.HTTPMessage at 0x2148e573fd0>)"
      ]
     },
     "execution_count": 48,
     "metadata": {},
     "output_type": "execute_result"
    }
   ],
   "source": [
    "# Download the file from `url` and save it locally under `file_name`:\n",
    "urllib.request.urlretrieve('http://data.phishtank.com/data/online-valid.csv', '../data/MaliciousURL.csv')\n",
    "urllib.request.urlretrieve('http://downloads.majestic.com/majestic_million.csv', '../data/GoodURL.csv')\n",
    "urllib.request.urlretrieve('https://raw.githubusercontent.com/incertum/cyber-matrix-ai/master/Malicious-URL-Detection-Deep-Learning/data/url_data_mega_deep_learning.csv', '../data/GithubURL.csv')"
   ]
  },
  {
   "cell_type": "markdown",
   "metadata": {},
   "source": [
    "## Load downloaded csv files"
   ]
  },
  {
   "cell_type": "code",
   "execution_count": 5,
   "metadata": {},
   "outputs": [],
   "source": [
    "URL_good = pd.read_csv('../data/GoodURL.csv')\n",
    "URL_bad = pd.read_csv('../data/MaliciousURL.csv')\n",
    "urldata = pd.read_csv('../data/GithubURL.csv')"
   ]
  },
  {
   "cell_type": "markdown",
   "metadata": {},
   "source": [
    "## Create Project Dataset"
   ]
  },
  {
   "cell_type": "code",
   "execution_count": 6,
   "metadata": {},
   "outputs": [],
   "source": [
    "URL_selected_good = pd.DataFrame(columns=['url', 'label'])\n",
    "URL_selected_bad = pd.DataFrame(columns=['url', 'label'])\n",
    "URL_selected_good['url'] = URL_good['Domain']\n",
    "URL_selected_good['label'] = 0\n",
    "URL_selected_bad['url'] = URL_bad['url']\n",
    "URL_selected_bad['label'] = 1"
   ]
  },
  {
   "cell_type": "code",
   "execution_count": 7,
   "metadata": {},
   "outputs": [],
   "source": [
    "np.random.seed(1)\n",
    "url_bad = urldata[urldata['isMalicious'] == 1].sample(10000)\n",
    "url_good = urldata[urldata['isMalicious'] == 0].sample(10000)\n",
    "url_selected = url_bad.append(url_good)\n",
    "url_selected.columns = ['url', 'label']"
   ]
  },
  {
   "cell_type": "code",
   "execution_count": 8,
   "metadata": {},
   "outputs": [
    {
     "data": {
      "text/plain": [
       "(1000000, 2)"
      ]
     },
     "execution_count": 8,
     "metadata": {},
     "output_type": "execute_result"
    }
   ],
   "source": [
    "URL_selected_good.shape"
   ]
  },
  {
   "cell_type": "code",
   "execution_count": 9,
   "metadata": {},
   "outputs": [
    {
     "data": {
      "text/plain": [
       "(13851, 2)"
      ]
     },
     "execution_count": 9,
     "metadata": {},
     "output_type": "execute_result"
    }
   ],
   "source": [
    "URL_selected_bad.shape"
   ]
  },
  {
   "cell_type": "code",
   "execution_count": 10,
   "metadata": {},
   "outputs": [],
   "source": [
    "URL_selected_all = URL_selected_bad.append(URL_selected_good.head(URL_selected_bad.shape[0])).append(url_selected)\n",
    "URL_selected_all= URL_selected_all.reset_index(drop=True)\n",
    "URL_selected_all = URL_selected_all.drop_duplicates(subset=['url'])"
   ]
  },
  {
   "cell_type": "code",
   "execution_count": 11,
   "metadata": {},
   "outputs": [
    {
     "data": {
      "text/plain": [
       "(47274, 2)"
      ]
     },
     "execution_count": 11,
     "metadata": {},
     "output_type": "execute_result"
    }
   ],
   "source": [
    "URL_selected_all.shape"
   ]
  },
  {
   "cell_type": "code",
   "execution_count": null,
   "metadata": {},
   "outputs": [],
   "source": []
  }
 ],
 "metadata": {
  "kernelspec": {
   "display_name": "Python 3",
   "language": "python",
   "name": "python3"
  },
  "language_info": {
   "codemirror_mode": {
    "name": "ipython",
    "version": 3
   },
   "file_extension": ".py",
   "mimetype": "text/x-python",
   "name": "python",
   "nbconvert_exporter": "python",
   "pygments_lexer": "ipython3",
   "version": "3.6.6"
  }
 },
 "nbformat": 4,
 "nbformat_minor": 2
}
