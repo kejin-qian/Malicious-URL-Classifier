{
 "cells": [
  {
   "cell_type": "markdown",
   "metadata": {},
   "source": [
    "## Import packages"
   ]
  },
  {
   "cell_type": "code",
   "execution_count": 166,
   "metadata": {},
   "outputs": [],
   "source": [
    "#import packages\n",
    "from __future__ import division\n",
    "import pandas as pd\n",
    "%matplotlib inline\n",
    "import matplotlib.pyplot as plt\n",
    "plt.style.use('seaborn-white')\n",
    "import numpy as np\n",
    "import seaborn as sns\n",
    "import pickle as pkl"
   ]
  },
  {
   "cell_type": "code",
   "execution_count": 167,
   "metadata": {},
   "outputs": [],
   "source": [
    "#import machine learning package\n",
    "import sklearn.ensemble as ek\n",
    "from sklearn.model_selection import train_test_split\n",
    "from sklearn.model_selection import cross_validate\n",
    "from sklearn.model_selection import cross_val_score\n",
    "from sklearn import tree, linear_model\n",
    "from sklearn.feature_selection import SelectFromModel\n",
    "from sklearn.externals import joblib\n",
    "from sklearn.naive_bayes import GaussianNB\n",
    "from sklearn.metrics import confusion_matrix\n",
    "from sklearn.pipeline import make_pipeline\n",
    "from sklearn.preprocessing import binarize, LabelEncoder, MinMaxScaler\n",
    "from sklearn import svm\n",
    "from sklearn.linear_model import LogisticRegression\n",
    "from sklearn import preprocessing"
   ]
  },
  {
   "cell_type": "markdown",
   "metadata": {},
   "source": [
    "## Import complete feature set made from Data Cleaning and EDA notebook\n"
   ]
  },
  {
   "cell_type": "code",
   "execution_count": 168,
   "metadata": {},
   "outputs": [],
   "source": [
    "# import complete feature set made from Data Cleaning and EDA notebook\n",
    "URLdata = pd.read_csv('../data/Complete_Feature_Set.csv', index_col = 0)"
   ]
  },
  {
   "cell_type": "code",
   "execution_count": 169,
   "metadata": {},
   "outputs": [
    {
     "data": {
      "text/html": [
       "<div>\n",
       "<style scoped>\n",
       "    .dataframe tbody tr th:only-of-type {\n",
       "        vertical-align: middle;\n",
       "    }\n",
       "\n",
       "    .dataframe tbody tr th {\n",
       "        vertical-align: top;\n",
       "    }\n",
       "\n",
       "    .dataframe thead th {\n",
       "        text-align: right;\n",
       "    }\n",
       "</style>\n",
       "<table border=\"1\" class=\"dataframe\">\n",
       "  <thead>\n",
       "    <tr style=\"text-align: right;\">\n",
       "      <th></th>\n",
       "      <th>url</th>\n",
       "      <th>no of dots</th>\n",
       "      <th>no of hyphen</th>\n",
       "      <th>len of url</th>\n",
       "      <th>no of at</th>\n",
       "      <th>no of double slash</th>\n",
       "      <th>no of subdir</th>\n",
       "      <th>no of subdomain</th>\n",
       "      <th>len of domain</th>\n",
       "      <th>no of queries</th>\n",
       "      <th>contains IP</th>\n",
       "      <th>presence of Suspicious_TLD</th>\n",
       "      <th>create_age(months)</th>\n",
       "      <th>expiry_age(months)</th>\n",
       "      <th>update_age(days)</th>\n",
       "      <th>country</th>\n",
       "      <th>file extension</th>\n",
       "      <th>label</th>\n",
       "      <th>risk indicator</th>\n",
       "    </tr>\n",
       "  </thead>\n",
       "  <tbody>\n",
       "    <tr>\n",
       "      <th>0</th>\n",
       "      <td>http://livelywebordainedkool.cf/harwoodservice...</td>\n",
       "      <td>0</td>\n",
       "      <td>0</td>\n",
       "      <td>4.189655</td>\n",
       "      <td>0</td>\n",
       "      <td>0</td>\n",
       "      <td>3</td>\n",
       "      <td>0</td>\n",
       "      <td>24</td>\n",
       "      <td>0</td>\n",
       "      <td>0</td>\n",
       "      <td>0</td>\n",
       "      <td>-1</td>\n",
       "      <td>-1</td>\n",
       "      <td>-1</td>\n",
       "      <td>None</td>\n",
       "      <td>.php</td>\n",
       "      <td>1</td>\n",
       "      <td>0</td>\n",
       "    </tr>\n",
       "    <tr>\n",
       "      <th>1</th>\n",
       "      <td>amazon.com.br:80/gp/redirect.html?_encoding=UT...</td>\n",
       "      <td>0</td>\n",
       "      <td>0</td>\n",
       "      <td>5.332719</td>\n",
       "      <td>0</td>\n",
       "      <td>0</td>\n",
       "      <td>2</td>\n",
       "      <td>0</td>\n",
       "      <td>16</td>\n",
       "      <td>173</td>\n",
       "      <td>0</td>\n",
       "      <td>0</td>\n",
       "      <td>-1</td>\n",
       "      <td>-1</td>\n",
       "      <td>-1</td>\n",
       "      <td>None</td>\n",
       "      <td>.html</td>\n",
       "      <td>0</td>\n",
       "      <td>0</td>\n",
       "    </tr>\n",
       "    <tr>\n",
       "      <th>2</th>\n",
       "      <td>usaerectionrx.com</td>\n",
       "      <td>0</td>\n",
       "      <td>0</td>\n",
       "      <td>2.833213</td>\n",
       "      <td>0</td>\n",
       "      <td>0</td>\n",
       "      <td>0</td>\n",
       "      <td>0</td>\n",
       "      <td>17</td>\n",
       "      <td>0</td>\n",
       "      <td>0</td>\n",
       "      <td>0</td>\n",
       "      <td>9</td>\n",
       "      <td>3</td>\n",
       "      <td>249</td>\n",
       "      <td>UA</td>\n",
       "      <td>.com</td>\n",
       "      <td>0</td>\n",
       "      <td>0</td>\n",
       "    </tr>\n",
       "    <tr>\n",
       "      <th>3</th>\n",
       "      <td>http://ciespains.com/delivery/index.htm</td>\n",
       "      <td>0</td>\n",
       "      <td>0</td>\n",
       "      <td>3.465736</td>\n",
       "      <td>0</td>\n",
       "      <td>0</td>\n",
       "      <td>2</td>\n",
       "      <td>0</td>\n",
       "      <td>13</td>\n",
       "      <td>0</td>\n",
       "      <td>0</td>\n",
       "      <td>0</td>\n",
       "      <td>1</td>\n",
       "      <td>11</td>\n",
       "      <td>0</td>\n",
       "      <td>None</td>\n",
       "      <td>.htm</td>\n",
       "      <td>1</td>\n",
       "      <td>0</td>\n",
       "    </tr>\n",
       "    <tr>\n",
       "      <th>4</th>\n",
       "      <td>http://paypalsecureresetloginpage.elifelfmarle...</td>\n",
       "      <td>0</td>\n",
       "      <td>0</td>\n",
       "      <td>4.158883</td>\n",
       "      <td>0</td>\n",
       "      <td>0</td>\n",
       "      <td>1</td>\n",
       "      <td>1</td>\n",
       "      <td>44</td>\n",
       "      <td>0</td>\n",
       "      <td>0</td>\n",
       "      <td>0</td>\n",
       "      <td>30</td>\n",
       "      <td>6</td>\n",
       "      <td>905</td>\n",
       "      <td>TR</td>\n",
       "      <td>None</td>\n",
       "      <td>1</td>\n",
       "      <td>0</td>\n",
       "    </tr>\n",
       "  </tbody>\n",
       "</table>\n",
       "</div>"
      ],
      "text/plain": [
       "                                                 url  no of dots  \\\n",
       "0  http://livelywebordainedkool.cf/harwoodservice...           0   \n",
       "1  amazon.com.br:80/gp/redirect.html?_encoding=UT...           0   \n",
       "2                                  usaerectionrx.com           0   \n",
       "3            http://ciespains.com/delivery/index.htm           0   \n",
       "4  http://paypalsecureresetloginpage.elifelfmarle...           0   \n",
       "\n",
       "   no of hyphen  len of url  no of at  no of double slash  no of subdir  \\\n",
       "0             0    4.189655         0                   0             3   \n",
       "1             0    5.332719         0                   0             2   \n",
       "2             0    2.833213         0                   0             0   \n",
       "3             0    3.465736         0                   0             2   \n",
       "4             0    4.158883         0                   0             1   \n",
       "\n",
       "   no of subdomain  len of domain  no of queries  contains IP  \\\n",
       "0                0             24              0            0   \n",
       "1                0             16            173            0   \n",
       "2                0             17              0            0   \n",
       "3                0             13              0            0   \n",
       "4                1             44              0            0   \n",
       "\n",
       "   presence of Suspicious_TLD  create_age(months)  expiry_age(months)  \\\n",
       "0                           0                  -1                  -1   \n",
       "1                           0                  -1                  -1   \n",
       "2                           0                   9                   3   \n",
       "3                           0                   1                  11   \n",
       "4                           0                  30                   6   \n",
       "\n",
       "   update_age(days) country file extension  label  risk indicator  \n",
       "0                -1    None           .php      1               0  \n",
       "1                -1    None          .html      0               0  \n",
       "2               249      UA           .com      0               0  \n",
       "3                 0    None           .htm      1               0  \n",
       "4               905      TR           None      1               0  "
      ]
     },
     "execution_count": 169,
     "metadata": {},
     "output_type": "execute_result"
    }
   ],
   "source": [
    "# check the loaded dataset\n",
    "URLdata.head()"
   ]
  },
  {
   "cell_type": "markdown",
   "metadata": {},
   "source": [
    "## Check the Data Balance"
   ]
  },
  {
   "cell_type": "code",
   "execution_count": 170,
   "metadata": {},
   "outputs": [
    {
     "name": "stdout",
     "output_type": "stream",
     "text": [
      "There are 47273 urls in the dataset.\n",
      "49.6% of urls are malicious urls.\n"
     ]
    }
   ],
   "source": [
    "#print total number of urls in the dataset\n",
    "print('There are ' + str(len(URLdata)) + ' urls in the dataset.')\n",
    "#percentage of malicious url\n",
    "spam = len(URLdata[URLdata['label']==1])\n",
    "percent_spam = spam/len(URLdata)*100\n",
    "print(str(round(percent_spam,2)) + '% of urls are malicious urls.')"
   ]
  },
  {
   "cell_type": "markdown",
   "metadata": {},
   "source": [
    "## Check NAs in the dataset"
   ]
  },
  {
   "cell_type": "code",
   "execution_count": 171,
   "metadata": {},
   "outputs": [
    {
     "data": {
      "text/plain": [
       "url                           False\n",
       "no of dots                    False\n",
       "no of hyphen                  False\n",
       "len of url                    False\n",
       "no of at                      False\n",
       "no of double slash            False\n",
       "no of subdir                  False\n",
       "no of subdomain               False\n",
       "len of domain                 False\n",
       "no of queries                 False\n",
       "contains IP                   False\n",
       "presence of Suspicious_TLD    False\n",
       "create_age(months)            False\n",
       "expiry_age(months)            False\n",
       "update_age(days)              False\n",
       "country                       False\n",
       "file extension                False\n",
       "label                         False\n",
       "risk indicator                False\n",
       "dtype: bool"
      ]
     },
     "execution_count": 171,
     "metadata": {},
     "output_type": "execute_result"
    }
   ],
   "source": [
    "#check the existence of NA values \n",
    "URLdata.isnull().any()"
   ]
  },
  {
   "cell_type": "markdown",
   "metadata": {},
   "source": [
    "## One-hot encoding on categorical variables"
   ]
  },
  {
   "cell_type": "code",
   "execution_count": 172,
   "metadata": {},
   "outputs": [
    {
     "data": {
      "text/html": [
       "<div>\n",
       "<style scoped>\n",
       "    .dataframe tbody tr th:only-of-type {\n",
       "        vertical-align: middle;\n",
       "    }\n",
       "\n",
       "    .dataframe tbody tr th {\n",
       "        vertical-align: top;\n",
       "    }\n",
       "\n",
       "    .dataframe thead th {\n",
       "        text-align: right;\n",
       "    }\n",
       "</style>\n",
       "<table border=\"1\" class=\"dataframe\">\n",
       "  <thead>\n",
       "    <tr style=\"text-align: right;\">\n",
       "      <th></th>\n",
       "      <th>url</th>\n",
       "      <th>no of dots</th>\n",
       "      <th>no of hyphen</th>\n",
       "      <th>len of url</th>\n",
       "      <th>no of at</th>\n",
       "      <th>no of double slash</th>\n",
       "      <th>no of subdir</th>\n",
       "      <th>no of subdomain</th>\n",
       "      <th>len of domain</th>\n",
       "      <th>no of queries</th>\n",
       "      <th>contains IP</th>\n",
       "      <th>presence of Suspicious_TLD</th>\n",
       "      <th>create_age(months)</th>\n",
       "      <th>expiry_age(months)</th>\n",
       "      <th>update_age(days)</th>\n",
       "      <th>country</th>\n",
       "      <th>file extension</th>\n",
       "      <th>label</th>\n",
       "      <th>risk indicator</th>\n",
       "    </tr>\n",
       "  </thead>\n",
       "  <tbody>\n",
       "    <tr>\n",
       "      <th>0</th>\n",
       "      <td>http://livelywebordainedkool.cf/harwoodservice...</td>\n",
       "      <td>0</td>\n",
       "      <td>0</td>\n",
       "      <td>4.189655</td>\n",
       "      <td>0</td>\n",
       "      <td>0</td>\n",
       "      <td>3</td>\n",
       "      <td>0</td>\n",
       "      <td>24</td>\n",
       "      <td>0</td>\n",
       "      <td>0</td>\n",
       "      <td>0</td>\n",
       "      <td>-1</td>\n",
       "      <td>-1</td>\n",
       "      <td>-1</td>\n",
       "      <td>102</td>\n",
       "      <td>473</td>\n",
       "      <td>1</td>\n",
       "      <td>0</td>\n",
       "    </tr>\n",
       "    <tr>\n",
       "      <th>1</th>\n",
       "      <td>amazon.com.br:80/gp/redirect.html?_encoding=UT...</td>\n",
       "      <td>0</td>\n",
       "      <td>0</td>\n",
       "      <td>5.332719</td>\n",
       "      <td>0</td>\n",
       "      <td>0</td>\n",
       "      <td>2</td>\n",
       "      <td>0</td>\n",
       "      <td>16</td>\n",
       "      <td>173</td>\n",
       "      <td>0</td>\n",
       "      <td>0</td>\n",
       "      <td>-1</td>\n",
       "      <td>-1</td>\n",
       "      <td>-1</td>\n",
       "      <td>102</td>\n",
       "      <td>348</td>\n",
       "      <td>0</td>\n",
       "      <td>0</td>\n",
       "    </tr>\n",
       "    <tr>\n",
       "      <th>2</th>\n",
       "      <td>usaerectionrx.com</td>\n",
       "      <td>0</td>\n",
       "      <td>0</td>\n",
       "      <td>2.833213</td>\n",
       "      <td>0</td>\n",
       "      <td>0</td>\n",
       "      <td>0</td>\n",
       "      <td>0</td>\n",
       "      <td>17</td>\n",
       "      <td>0</td>\n",
       "      <td>0</td>\n",
       "      <td>0</td>\n",
       "      <td>9</td>\n",
       "      <td>3</td>\n",
       "      <td>249</td>\n",
       "      <td>132</td>\n",
       "      <td>249</td>\n",
       "      <td>0</td>\n",
       "      <td>0</td>\n",
       "    </tr>\n",
       "    <tr>\n",
       "      <th>3</th>\n",
       "      <td>http://ciespains.com/delivery/index.htm</td>\n",
       "      <td>0</td>\n",
       "      <td>0</td>\n",
       "      <td>3.465736</td>\n",
       "      <td>0</td>\n",
       "      <td>0</td>\n",
       "      <td>2</td>\n",
       "      <td>0</td>\n",
       "      <td>13</td>\n",
       "      <td>0</td>\n",
       "      <td>0</td>\n",
       "      <td>0</td>\n",
       "      <td>1</td>\n",
       "      <td>11</td>\n",
       "      <td>0</td>\n",
       "      <td>102</td>\n",
       "      <td>345</td>\n",
       "      <td>1</td>\n",
       "      <td>0</td>\n",
       "    </tr>\n",
       "    <tr>\n",
       "      <th>4</th>\n",
       "      <td>http://paypalsecureresetloginpage.elifelfmarle...</td>\n",
       "      <td>0</td>\n",
       "      <td>0</td>\n",
       "      <td>4.158883</td>\n",
       "      <td>0</td>\n",
       "      <td>0</td>\n",
       "      <td>1</td>\n",
       "      <td>1</td>\n",
       "      <td>44</td>\n",
       "      <td>0</td>\n",
       "      <td>0</td>\n",
       "      <td>0</td>\n",
       "      <td>30</td>\n",
       "      <td>6</td>\n",
       "      <td>905</td>\n",
       "      <td>128</td>\n",
       "      <td>603</td>\n",
       "      <td>1</td>\n",
       "      <td>0</td>\n",
       "    </tr>\n",
       "    <tr>\n",
       "      <th>5</th>\n",
       "      <td>msci.com</td>\n",
       "      <td>0</td>\n",
       "      <td>0</td>\n",
       "      <td>2.079442</td>\n",
       "      <td>0</td>\n",
       "      <td>0</td>\n",
       "      <td>0</td>\n",
       "      <td>0</td>\n",
       "      <td>8</td>\n",
       "      <td>0</td>\n",
       "      <td>0</td>\n",
       "      <td>0</td>\n",
       "      <td>300</td>\n",
       "      <td>0</td>\n",
       "      <td>358</td>\n",
       "      <td>136</td>\n",
       "      <td>249</td>\n",
       "      <td>0</td>\n",
       "      <td>0</td>\n",
       "    </tr>\n",
       "    <tr>\n",
       "      <th>6</th>\n",
       "      <td>cecilmarine.com</td>\n",
       "      <td>0</td>\n",
       "      <td>0</td>\n",
       "      <td>2.708050</td>\n",
       "      <td>0</td>\n",
       "      <td>0</td>\n",
       "      <td>0</td>\n",
       "      <td>0</td>\n",
       "      <td>15</td>\n",
       "      <td>0</td>\n",
       "      <td>0</td>\n",
       "      <td>0</td>\n",
       "      <td>214</td>\n",
       "      <td>2</td>\n",
       "      <td>361</td>\n",
       "      <td>136</td>\n",
       "      <td>249</td>\n",
       "      <td>0</td>\n",
       "      <td>0</td>\n",
       "    </tr>\n",
       "    <tr>\n",
       "      <th>7</th>\n",
       "      <td>mapharma61.fr/downloader/Maged/Model/Config/ss...</td>\n",
       "      <td>0</td>\n",
       "      <td>0</td>\n",
       "      <td>4.997212</td>\n",
       "      <td>0</td>\n",
       "      <td>0</td>\n",
       "      <td>12</td>\n",
       "      <td>0</td>\n",
       "      <td>13</td>\n",
       "      <td>0</td>\n",
       "      <td>0</td>\n",
       "      <td>0</td>\n",
       "      <td>91</td>\n",
       "      <td>9</td>\n",
       "      <td>417</td>\n",
       "      <td>102</td>\n",
       "      <td>348</td>\n",
       "      <td>1</td>\n",
       "      <td>1</td>\n",
       "    </tr>\n",
       "    <tr>\n",
       "      <th>8</th>\n",
       "      <td>http://agencepub.co.rw/Paypal/Account-Limited/...</td>\n",
       "      <td>0</td>\n",
       "      <td>0</td>\n",
       "      <td>4.615121</td>\n",
       "      <td>0</td>\n",
       "      <td>0</td>\n",
       "      <td>8</td>\n",
       "      <td>0</td>\n",
       "      <td>15</td>\n",
       "      <td>0</td>\n",
       "      <td>0</td>\n",
       "      <td>0</td>\n",
       "      <td>-1</td>\n",
       "      <td>-1</td>\n",
       "      <td>-1</td>\n",
       "      <td>102</td>\n",
       "      <td>603</td>\n",
       "      <td>1</td>\n",
       "      <td>1</td>\n",
       "    </tr>\n",
       "    <tr>\n",
       "      <th>9</th>\n",
       "      <td>http://alohacomcentre.com/css/</td>\n",
       "      <td>0</td>\n",
       "      <td>0</td>\n",
       "      <td>3.135494</td>\n",
       "      <td>0</td>\n",
       "      <td>0</td>\n",
       "      <td>2</td>\n",
       "      <td>0</td>\n",
       "      <td>18</td>\n",
       "      <td>0</td>\n",
       "      <td>0</td>\n",
       "      <td>0</td>\n",
       "      <td>61</td>\n",
       "      <td>-1</td>\n",
       "      <td>23</td>\n",
       "      <td>121</td>\n",
       "      <td>603</td>\n",
       "      <td>1</td>\n",
       "      <td>0</td>\n",
       "    </tr>\n",
       "  </tbody>\n",
       "</table>\n",
       "</div>"
      ],
      "text/plain": [
       "                                                 url  no of dots  \\\n",
       "0  http://livelywebordainedkool.cf/harwoodservice...           0   \n",
       "1  amazon.com.br:80/gp/redirect.html?_encoding=UT...           0   \n",
       "2                                  usaerectionrx.com           0   \n",
       "3            http://ciespains.com/delivery/index.htm           0   \n",
       "4  http://paypalsecureresetloginpage.elifelfmarle...           0   \n",
       "5                                           msci.com           0   \n",
       "6                                    cecilmarine.com           0   \n",
       "7  mapharma61.fr/downloader/Maged/Model/Config/ss...           0   \n",
       "8  http://agencepub.co.rw/Paypal/Account-Limited/...           0   \n",
       "9                     http://alohacomcentre.com/css/           0   \n",
       "\n",
       "   no of hyphen  len of url  no of at  no of double slash  no of subdir  \\\n",
       "0             0    4.189655         0                   0             3   \n",
       "1             0    5.332719         0                   0             2   \n",
       "2             0    2.833213         0                   0             0   \n",
       "3             0    3.465736         0                   0             2   \n",
       "4             0    4.158883         0                   0             1   \n",
       "5             0    2.079442         0                   0             0   \n",
       "6             0    2.708050         0                   0             0   \n",
       "7             0    4.997212         0                   0            12   \n",
       "8             0    4.615121         0                   0             8   \n",
       "9             0    3.135494         0                   0             2   \n",
       "\n",
       "   no of subdomain  len of domain  no of queries  contains IP  \\\n",
       "0                0             24              0            0   \n",
       "1                0             16            173            0   \n",
       "2                0             17              0            0   \n",
       "3                0             13              0            0   \n",
       "4                1             44              0            0   \n",
       "5                0              8              0            0   \n",
       "6                0             15              0            0   \n",
       "7                0             13              0            0   \n",
       "8                0             15              0            0   \n",
       "9                0             18              0            0   \n",
       "\n",
       "   presence of Suspicious_TLD  create_age(months)  expiry_age(months)  \\\n",
       "0                           0                  -1                  -1   \n",
       "1                           0                  -1                  -1   \n",
       "2                           0                   9                   3   \n",
       "3                           0                   1                  11   \n",
       "4                           0                  30                   6   \n",
       "5                           0                 300                   0   \n",
       "6                           0                 214                   2   \n",
       "7                           0                  91                   9   \n",
       "8                           0                  -1                  -1   \n",
       "9                           0                  61                  -1   \n",
       "\n",
       "   update_age(days)  country  file extension  label  risk indicator  \n",
       "0                -1      102             473      1               0  \n",
       "1                -1      102             348      0               0  \n",
       "2               249      132             249      0               0  \n",
       "3                 0      102             345      1               0  \n",
       "4               905      128             603      1               0  \n",
       "5               358      136             249      0               0  \n",
       "6               361      136             249      0               0  \n",
       "7               417      102             348      1               1  \n",
       "8                -1      102             603      1               1  \n",
       "9                23      121             603      1               0  "
      ]
     },
     "execution_count": 172,
     "metadata": {},
     "output_type": "execute_result"
    }
   ],
   "source": [
    "# Apply one-hot encoding to country and file extension\n",
    "le = preprocessing.LabelEncoder()\n",
    "URLdata['country'] = le.fit_transform(URLdata['country'])\n",
    "URLdata['file extension'] = le.fit_transform(URLdata['file extension'])\n",
    "URLdata.head(10)"
   ]
  },
  {
   "cell_type": "code",
   "execution_count": 173,
   "metadata": {},
   "outputs": [],
   "source": [
    "## Extract the Feature Set and Response Column\n",
    "X = URLdata.drop(['url','label'],axis=1).values\n",
    "y = URLdata['label'].values"
   ]
  },
  {
   "cell_type": "code",
   "execution_count": 174,
   "metadata": {},
   "outputs": [],
   "source": [
    "## Split the X,y test and train sets\n",
    "X_train, X_test, y_train, y_test = train_test_split(X, y ,test_size=0.2)"
   ]
  },
  {
   "cell_type": "code",
   "execution_count": 175,
   "metadata": {},
   "outputs": [
    {
     "name": "stdout",
     "output_type": "stream",
     "text": [
      "Training Set(Features):  37818\n",
      "Training Set(y Response):  37818\n",
      "Test Set(Features):  9455\n",
      "Test Set(y Response):  9455\n"
     ]
    }
   ],
   "source": [
    "## Sizes of train and test sets\n",
    "print(\"Training Set(Features): \", len(X_train))\n",
    "print(\"Training Set(y Response): \", len(y_train))\n",
    "print(\"Test Set(Features): \", len(X_test))\n",
    "print(\"Test Set(y Response): \", len(y_test))"
   ]
  },
  {
   "cell_type": "code",
   "execution_count": 176,
   "metadata": {},
   "outputs": [],
   "source": [
    "## Model candidates for this classification problem\n",
    "\n",
    "model = { \"DecisionTree\":tree.DecisionTreeClassifier(max_depth=20),\n",
    "         \"RandomForest\":ek.RandomForestClassifier(n_estimators=50),\n",
    "         \"Adaboost\":ek.AdaBoostClassifier(n_estimators=100),\n",
    "         \"GradientBoosting\":ek.GradientBoostingClassifier(n_estimators=100),\n",
    "         \"LogisticRegression\":LogisticRegression()   \n",
    "}"
   ]
  },
  {
   "cell_type": "code",
   "execution_count": 177,
   "metadata": {},
   "outputs": [
    {
     "name": "stdout",
     "output_type": "stream",
     "text": [
      "DecisionTree : 0.9007932310946589 \n",
      "RandomForest : 0.9255420412480169 \n",
      "Adaboost : 0.8984664198836594 \n",
      "GradientBoosting : 0.9063987308302486 \n"
     ]
    },
    {
     "name": "stderr",
     "output_type": "stream",
     "text": [
      "/Users/qiankejin/anaconda/lib/python3.6/site-packages/sklearn/linear_model/logistic.py:433: FutureWarning: Default solver will be changed to 'lbfgs' in 0.22. Specify a solver to silence this warning.\n",
      "  FutureWarning)\n"
     ]
    },
    {
     "name": "stdout",
     "output_type": "stream",
     "text": [
      "LogisticRegression : 0.8469592808038076 \n"
     ]
    }
   ],
   "source": [
    "## Run models\n",
    "results = {}\n",
    "for algo in model:\n",
    "    clf = model[algo]\n",
    "    clf.fit(X_train,y_train)\n",
    "    score = clf.score(X_test,y_test)\n",
    "    print (\"%s : %s \" %(algo, score))\n",
    "    results[algo] = score"
   ]
  },
  {
   "cell_type": "code",
   "execution_count": 178,
   "metadata": {},
   "outputs": [
    {
     "name": "stdout",
     "output_type": "stream",
     "text": [
      "RandomForest\n"
     ]
    }
   ],
   "source": [
    "winner = max(results, key=results.get)\n",
    "print(winner)"
   ]
  },
  {
   "cell_type": "code",
   "execution_count": 185,
   "metadata": {},
   "outputs": [
    {
     "name": "stdout",
     "output_type": "stream",
     "text": [
      "n_estimators 50 max_depth None 0.9275484989968337\n",
      "n_estimators 50 max_depth 1 0.7702076241167315\n",
      "n_estimators 50 max_depth 2 0.8336912784907018\n",
      "n_estimators 50 max_depth 3 0.8654837646580363\n",
      "n_estimators 50 max_depth 4 0.870412407597786\n",
      "n_estimators 100 max_depth None 0.927146521385134\n",
      "n_estimators 100 max_depth 1 0.7790711006065354\n",
      "n_estimators 100 max_depth 2 0.8426151770471415\n",
      "n_estimators 100 max_depth 3 0.8636431574403123\n",
      "n_estimators 100 max_depth 4 0.8732472313984252\n",
      "n_estimators 150 max_depth None 0.9280984860041503\n",
      "n_estimators 150 max_depth 1 0.7801076050017437\n",
      "n_estimators 150 max_depth 2 0.8388711776072194\n",
      "n_estimators 150 max_depth 3 0.8648280560370996\n",
      "n_estimators 150 max_depth 4 0.8709202007992202\n",
      "n_estimators 200 max_depth None 0.92759072410284\n",
      "n_estimators 200 max_depth 1 0.7740776096679018\n",
      "n_estimators 200 max_depth 2 0.8382590007730666\n",
      "n_estimators 200 max_depth 3 0.8653145286050311\n",
      "n_estimators 200 max_depth 4 0.8745589171756721\n"
     ]
    }
   ],
   "source": [
    "## Random Forest got the highest accuracy\n",
    "## Tune Hyperparameters\n",
    "np.random.seed(123)\n",
    "\n",
    "for n_est in [50,100,150,200]:\n",
    "    for depth in [None, 1, 2, 3, 4]:\n",
    "        DecisionTree = ek.RandomForestClassifier(n_estimators=n_est, max_depth = depth)\n",
    "        cv_results = cross_validate(DecisionTree, X, y, cv=10,return_train_score=True) \n",
    "        print('n_estimators',n_est, 'max_depth',depth, cv_results['test_score'].mean())"
   ]
  },
  {
   "cell_type": "code",
   "execution_count": 195,
   "metadata": {},
   "outputs": [
    {
     "name": "stdout",
     "output_type": "stream",
     "text": [
      "10-fold cross validation accuracy of the model is:  0.9279503512944244\n"
     ]
    }
   ],
   "source": [
    "##n_estimators 150 max_depth None 0.9280984860041503\n",
    "## 10-fold CV\n",
    "np.random.seed(123)\n",
    "RandomForest = ek.RandomForestClassifier(n_estimators=150)\n",
    "cv_results = cross_validate(RandomForest, X, y, cv=10,return_train_score=True) \n",
    "print(\"10-fold cross validation accuracy of the model is: \",cv_results['test_score'].mean())"
   ]
  },
  {
   "cell_type": "code",
   "execution_count": 155,
   "metadata": {},
   "outputs": [
    {
     "name": "stdout",
     "output_type": "stream",
     "text": [
      "10-fold cross validation AUC of the model is  0.9799157804629399\n"
     ]
    }
   ],
   "source": [
    "cv_roc = cross_val_score(RandomForest, X, y, cv=10, scoring='roc_auc').mean()\n",
    "print(\"10-fold cross validation AUC of the model is \", cv_roc)"
   ]
  },
  {
   "cell_type": "code",
   "execution_count": 180,
   "metadata": {},
   "outputs": [
    {
     "name": "stdout",
     "output_type": "stream",
     "text": [
      "10-fold cross validation AUC of the model is  0.9697760249804258\n"
     ]
    }
   ],
   "source": [
    "GB = ek.GradientBoostingClassifier(n_estimators=100)\n",
    "cv_results = cross_validate(GB, X, y, cv=10,return_train_score=True) \n",
    "cv_roc = cross_val_score(GB, X, y, cv=10, scoring='roc_auc').mean()\n",
    "print(\"10-fold cross validation AUC of the model is \", cv_roc)"
   ]
  },
  {
   "cell_type": "code",
   "execution_count": 181,
   "metadata": {},
   "outputs": [
    {
     "name": "stdout",
     "output_type": "stream",
     "text": [
      "10-fold cross validation AUC of the model is  0.965173981634873\n"
     ]
    }
   ],
   "source": [
    "AB = ek.AdaBoostClassifier(n_estimators=100)\n",
    "cv_results = cross_validate(AB, X, y, cv=10,return_train_score=True) \n",
    "cv_roc = cross_val_score(AB, X, y, cv=10, scoring='roc_auc').mean()\n",
    "print(\"10-fold cross validation AUC of the model is \", cv_roc)"
   ]
  },
  {
   "cell_type": "code",
   "execution_count": 184,
   "metadata": {},
   "outputs": [
    {
     "name": "stdout",
     "output_type": "stream",
     "text": [
      "10-fold cross validation AUC of the model is  0.9177181938331926\n"
     ]
    }
   ],
   "source": [
    "DT = tree.DecisionTreeClassifier(max_depth=20)\n",
    "cv_results = cross_validate(DT, X, y, cv=10,return_train_score=True) \n",
    "cv_roc = cross_val_score(DT, X, y, cv=10, scoring='roc_auc').mean()\n",
    "print(\"10-fold cross validation AUC of the model is \", cv_roc)"
   ]
  },
  {
   "cell_type": "code",
   "execution_count": 201,
   "metadata": {},
   "outputs": [],
   "source": [
    "np.random.seed(12345)\n",
    "clf = ek.RandomForestClassifier(n_estimators=150)\n",
    "clf.fit(X_train,y_train)\n",
    "res = clf.predict(X)\n",
    "mt = confusion_matrix(y, res)"
   ]
  },
  {
   "cell_type": "code",
   "execution_count": 202,
   "metadata": {},
   "outputs": [
    {
     "data": {
      "image/png": "[encoded data removed]",
      "text/plain": [
       "<matplotlib.figure.Figure at 0x1a25496e48>"
      ]
     },
     "metadata": {},
     "output_type": "display_data"
    }
   ],
   "source": [
    "ax= plt.subplot()\n",
    "sns.heatmap(mt, annot=True, ax = ax); #annot=True to annotate cells\n",
    "\n",
    "# labels, title and ticks\n",
    "ax.set_xlabel('Predicted labels');ax.set_ylabel('True labels'); \n",
    "ax.set_title('Confusion Matrix'); \n",
    "ax.xaxis.set_ticklabels(['Safe', 'Risky']); ax.yaxis.set_ticklabels(['Safe', 'Risky']);"
   ]
  },
  {
   "cell_type": "code",
   "execution_count": 203,
   "metadata": {},
   "outputs": [
    {
     "name": "stdout",
     "output_type": "stream",
     "text": [
      "False positive rate : 2.295811 %\n",
      "False negative rate : 2.332921 %\n",
      "F1 Score is:  0.9766707894400136\n"
     ]
    }
   ],
   "source": [
    "# False Positive and False Negative rates\n",
    "from sklearn.metrics import f1_score\n",
    "\n",
    "FP = (mt[0][1] / float(sum(mt[0])))*100\n",
    "FN = (mt[1][0] / float(sum(mt[1])))*100\n",
    "F1 = f1_score(y, res, average='binary')\n",
    "print(\"False positive rate : %f %%\" % FP)\n",
    "print('False negative rate : %f %%' % FN)\n",
    "print(\"F1 Score is: \", F1)"
   ]
  },
  {
   "cell_type": "code",
   "execution_count": 204,
   "metadata": {},
   "outputs": [
    {
     "name": "stdout",
     "output_type": "stream",
     "text": [
      "The model AUC is:  0.9768563382270999\n"
     ]
    }
   ],
   "source": [
    "## AUC\n",
    "from sklearn import metrics\n",
    "fpr, tpr, thresholds = metrics.roc_curve(y, res, pos_label=1)\n",
    "auc = metrics.auc(fpr, tpr)\n",
    "print(\"The model AUC is: \", auc)"
   ]
  },
  {
   "cell_type": "code",
   "execution_count": 190,
   "metadata": {},
   "outputs": [
    {
     "name": "stdout",
     "output_type": "stream",
     "text": [
      "Requirement already satisfied: prettytable in /Users/qiankejin/anaconda/lib/python3.6/site-packages (0.7.2)\r\n"
     ]
    }
   ],
   "source": [
    "import sys\n",
    "!{sys.executable} -m pip install prettytable\n",
    "import prettytable"
   ]
  },
  {
   "cell_type": "code",
   "execution_count": 205,
   "metadata": {},
   "outputs": [
    {
     "name": "stdout",
     "output_type": "stream",
     "text": [
      "+---------------------+--------------------+\n",
      "|    Random Forest    | n_estimators = 150 |\n",
      "+---------------------+--------------------+\n",
      "| 10-fold CV Accuracy |      92.795%       |\n",
      "|    False Positive   |       2.296%       |\n",
      "|    False Negative   |       2.333%       |\n",
      "|       F1 Score      |       0.977        |\n",
      "|         AUC         |       0.977        |\n",
      "+---------------------+--------------------+\n"
     ]
    }
   ],
   "source": [
    "## Model Summary\n",
    "\n",
    "import prettytable\n",
    "x = prettytable.PrettyTable([\"Random Forest\", \"n_estimators = 150\"])\n",
    "x.add_row([\"10-fold CV Accuracy\", str(round(cv_results['test_score'].mean()*100,3))+\"%\"])\n",
    "x.add_row([\"False Positive\", str(round(FP,3))+\"%\"]) \n",
    "x.add_row([\"False Negative\", str(round(FN,3))+\"%\"]) \n",
    "x.add_row([\"F1 Score\", round(F1,3)])  \n",
    "x.add_row([\"AUC\", round(auc,3)])\n",
    "print(x)"
   ]
  },
  {
   "cell_type": "code",
   "execution_count": 206,
   "metadata": {},
   "outputs": [
    {
     "name": "stdout",
     "output_type": "stream",
     "text": [
      "Feature ranking:\n",
      "1. feature no of subdir (0.202283)\n",
      "2. feature create_age(months) (0.164614)\n",
      "3. feature len of url (0.158797)\n",
      "4. feature file extension (0.136176)\n",
      "5. feature len of domain (0.105130)\n",
      "6. feature no of subdomain (0.057108)\n",
      "7. feature expiry_age(months) (0.048354)\n",
      "8. feature update_age(days) (0.040318)\n",
      "9. feature risk indicator (0.033404)\n",
      "10. feature no of queries (0.022276)\n",
      "11. feature country (0.020440)\n",
      "12. feature no of hyphen (0.006946)\n",
      "13. feature contains IP (0.003041)\n",
      "14. feature presence of Suspicious_TLD (0.000415)\n",
      "15. feature no of dots (0.000350)\n",
      "16. feature no of double slash (0.000344)\n",
      "17. feature no of at (0.000005)\n"
     ]
    },
    {
     "data": {
      "image/png": "[encoded data removed]",
      "text/plain": [
       "<matplotlib.figure.Figure at 0x1a1f5a3eb8>"
      ]
     },
     "metadata": {},
     "output_type": "display_data"
    }
   ],
   "source": [
    "forest = clf\n",
    "importances = forest.feature_importances_\n",
    "std = np.std([tree.feature_importances_ for tree in forest.estimators_],\n",
    "             axis=0)\n",
    "indices = np.argsort(importances)[::-1]\n",
    "\n",
    "# Print the feature ranking\n",
    "print(\"Feature ranking:\")\n",
    "\n",
    "\n",
    "for f in range(X.shape[1]):\n",
    "    print(\"%d. feature %s (%f)\" % (f + 1, list(URLdata.drop(['url','label'],axis=1))[indices[f]], importances[indices[f]]))\n",
    "\n",
    "# Plot the feature importances of the forest\n",
    "plt.figure()\n",
    "plt.title(\"Feature importances\")\n",
    "plt.bar(range(X.shape[1]), importances[indices],\n",
    "       color=\"mediumpurple\", yerr=std[indices], align=\"center\")\n",
    "plt.xticks(range(X.shape[1]), indices)\n",
    "plt.xlim([-1, X.shape[1]])\n",
    "plt.show()"
   ]
  },
  {
   "cell_type": "code",
   "execution_count": 208,
   "metadata": {},
   "outputs": [],
   "source": [
    "def evalClassModel(model, y_test, y_pred_class, plot=False):\n",
    "    #Classification accuracy: percentage of correct predictions\n",
    "    # calculate accuracy\n",
    "    print('Accuracy:', metrics.accuracy_score(y_test, y_pred_class))\n",
    "    \n",
    "    #Null accuracy: accuracy that could be achieved by always predicting the most frequent class\n",
    "    # examine the class distribution of the testing set (using a Pandas Series method)\n",
    "    print('Null accuracy:\\n', y_test.value_counts())\n",
    "    \n",
    "    # calculate the percentage of ones\n",
    "    print('Percentage of ones:', y_test.mean())\n",
    "    \n",
    "    # calculate the percentage of zeros\n",
    "    print('Percentage of zeros:',1 - y_test.mean())\n",
    "    \n",
    "    #Comparing the true and predicted response values\n",
    "    print('True:', y_test.values[0:25])\n",
    "    print('Pred:', y_pred_class[0:25])\n",
    "    \n",
    "    #Conclusion:\n",
    "    #Classification accuracy is the easiest classification metric to understand\n",
    "    #But, it does not tell you the underlying distribution of response values\n",
    "    #And, it does not tell you what \"types\" of errors your classifier is making\n",
    "    \n",
    "    #Confusion matrix\n",
    "    # save confusion matrix and slice into four pieces\n",
    "    confusion = metrics.confusion_matrix(y_test, y_pred_class)\n",
    "    #[row, column]\n",
    "    TP = confusion[1, 1]\n",
    "    TN = confusion[0, 0]\n",
    "    FP = confusion[0, 1]\n",
    "    FN = confusion[1, 0]\n",
    "    \n",
    "    # visualize Confusion Matrix\n",
    "    sns.heatmap(confusion,annot=True,fmt=\"d\") \n",
    "    plt.title('Confusion Matrix')\n",
    "    plt.xlabel('Predicted')\n",
    "    plt.ylabel('Actual')\n",
    "    plt.show()\n",
    "    \n",
    "    #Metrics computed from a confusion matrix\n",
    "    #Classification Accuracy: Overall, how often is the classifier correct?\n",
    "    accuracy = metrics.accuracy_score(y_test, y_pred_class)\n",
    "    print('Classification Accuracy:', accuracy)\n",
    "    \n",
    "    #Classification Error: Overall, how often is the classifier incorrect?\n",
    "    print('Classification Error:', 1 - metrics.accuracy_score(y_test, y_pred_class))\n",
    "    \n",
    "    #False Positive Rate: When the actual value is negative, how often is the prediction incorrect?\n",
    "    false_positive_rate = FP / float(TN + FP)\n",
    "    print('False Positive Rate:', false_positive_rate)\n",
    "    \n",
    "    #Precision: When a positive value is predicted, how often is the prediction correct?\n",
    "    print('Precision:', metrics.precision_score(y_test, y_pred_class))\n",
    "    \n",
    "    \n",
    "    # IMPORTANT: first argument is true values, second argument is predicted probabilities\n",
    "    print('AUC Score:', metrics.roc_auc_score(y_test, y_pred_class))\n",
    "    \n",
    "    # calculate cross-validated AUC\n",
    "    print('Cross-validated AUC:', cross_val_score(model, X, y, cv=10, scoring='roc_auc').mean())\n",
    "    \n",
    "    ##########################################\n",
    "    #Adjusting the classification threshold\n",
    "    ##########################################\n",
    "    # print the first 10 predicted responses\n",
    "    # 1D array (vector) of binary values (0, 1)\n",
    "    print('First 10 predicted responses:\\n', model.predict(X)[0:10])\n",
    "\n",
    "    # print the first 10 predicted probabilities of class membership\n",
    "    print('First 10 predicted probabilities of class members:\\n', model.predict_proba(X)[0:10])\n",
    "\n",
    "    # print the first 10 predicted probabilities for class 1\n",
    "    model.predict_proba(X)[0:10, 1]\n",
    "    \n",
    "    # store the predicted probabilities for class 1\n",
    "    y_pred_prob = model.predict_proba(X)[:, 1]\n",
    "    \n",
    "    if plot == True:\n",
    "        # histogram of predicted probabilities\n",
    "        # adjust the font size \n",
    "        plt.rcParams['font.size'] = 12\n",
    "        # 8 bins\n",
    "        plt.hist(y_pred_prob, bins=8, color=\"mediumpurple\")\n",
    "        \n",
    "        # x-axis limit from 0 to 1\n",
    "        plt.xlim(0,1)\n",
    "        plt.title('Histogram of predicted probabilities')\n",
    "        plt.xlabel('Predicted probability of treatment')\n",
    "        plt.ylabel('Frequency')\n",
    "    \n",
    "    \n",
    "    \n",
    "    # print the first 10 predicted probabilities\n",
    "    print('First 10 predicted probabilities:\\n', y_pred_prob[0:10])\n",
    "    \n",
    "    ##########################################\n",
    "    #ROC Curves and Area Under the Curve (AUC)\n",
    "    ##########################################\n",
    "    \n",
    "    #Question: Wouldn't it be nice if we could see how sensitivity and specificity are affected by various thresholds, without actually changing the threshold?\n",
    "    #Answer: Plot the ROC curve!\n",
    "    \n",
    "    \n",
    "    #AUC is the percentage of the ROC plot that is underneath the curve\n",
    "    #Higher value = better classifier\n",
    "    roc_auc = metrics.roc_auc_score(y_test, y_pred_prob)\n",
    "    \n",
    "    \n",
    "\n",
    "    # IMPORTANT: first argument is true values, second argument is predicted probabilities\n",
    "    # we pass y_test and y_pred_prob\n",
    "    # we do not use y_pred_class, because it will give incorrect results without generating an error\n",
    "    # roc_curve returns 3 objects fpr, tpr, thresholds\n",
    "    # fpr: false positive rate\n",
    "    # tpr: true positive rate\n",
    "    fpr, tpr, thresholds = metrics.roc_curve(y_test, y_pred_prob)\n",
    "    if plot == True:\n",
    "        plt.figure()\n",
    "        \n",
    "        plt.plot(fpr, tpr, color=\"mediumpurple\", label='ROC curve (area = %0.2f)' % metrics.roc_auc_score(y_test, y_pred_class))\n",
    "        plt.plot([0, 1], [0, 1], color='navy', linestyle='--')\n",
    "        plt.xlim([0.0, 1.0])\n",
    "        plt.ylim([0.0, 1.0])\n",
    "        plt.rcParams['font.size'] = 12\n",
    "        plt.title('ROC curve for treatment classifier')\n",
    "        plt.xlabel('False Positive Rate (1 - Specificity)')\n",
    "        plt.ylabel('True Positive Rate (Sensitivity)')\n",
    "        plt.legend(loc=\"lower right\")\n",
    "        plt.show()"
   ]
  },
  {
   "cell_type": "code",
   "execution_count": 209,
   "metadata": {},
   "outputs": [
    {
     "name": "stdout",
     "output_type": "stream",
     "text": [
      "1\n",
      "0\n"
     ]
    },
    {
     "data": {
      "text/plain": [
       "array([[0.04666667, 0.95333333],\n",
       "       [0.66      , 0.34      ]])"
      ]
     },
     "execution_count": 209,
     "metadata": {},
     "output_type": "execute_result"
    }
   ],
   "source": [
    "for i in clf.predict([[  1       ,   1        ,   3.8286414 ,   3      ,\n",
    "          0        ,   2        ,   0        ,  20        ,\n",
    "          0        ,   0       ,   0        ,  95        ,\n",
    "          1        ,   2        ,  98        , 184        ,\n",
    "          1        ],\n",
    "       [  0.        ,   0.        ,   5.09986643,   0.        ,\n",
    "          0.        ,   6.        ,   0.        ,   0.        ,\n",
    "          0.        ,   0.        ,   0.        ,  -1.        ,\n",
    "         -1.        ,  -1.        ,  89.        , 262.        ,\n",
    "          1.        ]]):\n",
    "    print(i)\n",
    "clf.predict_proba([[  1       ,   1        ,   3.8286414 ,   3      ,\n",
    "          0        ,   2        ,   0        ,  20        ,\n",
    "          0        ,   0       ,   0        ,  95        ,\n",
    "          1        ,   2        ,  98        , 184        ,\n",
    "          1        ],\n",
    "       [  0.        ,   0.        ,   5.09986643,   0.        ,\n",
    "          0.        ,   6.        ,   0.        ,   0.        ,\n",
    "          0.        ,   0.        ,   0.        ,  -1.        ,\n",
    "         -1.        ,  -1.        ,  89.        , 262.        ,\n",
    "          1.        ]])"
   ]
  },
  {
   "cell_type": "code",
   "execution_count": 210,
   "metadata": {
    "scrolled": false
   },
   "outputs": [
    {
     "name": "stdout",
     "output_type": "stream",
     "text": [
      "Accuracy: 0.9768578258202356\n",
      "Null accuracy:\n",
      " 0    23826\n",
      "1    23447\n",
      "dtype: int64\n",
      "Percentage of ones: 0.49599136928056187\n",
      "Percentage of zeros: 0.5040086307194381\n",
      "True: [1 0 0 1 1 0 0 1 1 1 0 0 0 1 1 1 1 1 1 1 0 1 1 1 0]\n",
      "Pred: 0     1\n",
      "1     0\n",
      "2     0\n",
      "3     1\n",
      "4     1\n",
      "5     0\n",
      "6     0\n",
      "7     1\n",
      "8     1\n",
      "9     1\n",
      "10    0\n",
      "11    0\n",
      "12    0\n",
      "13    1\n",
      "14    1\n",
      "15    1\n",
      "16    1\n",
      "17    1\n",
      "18    1\n",
      "19    1\n",
      "20    0\n",
      "21    1\n",
      "22    1\n",
      "23    1\n",
      "24    0\n",
      "dtype: int64\n"
     ]
    },
    {
     "data": {
      "image/png": "[encoded data removed]",
      "text/plain": [
       "<matplotlib.figure.Figure at 0x1a1f67a208>"
      ]
     },
     "metadata": {},
     "output_type": "display_data"
    },
    {
     "name": "stdout",
     "output_type": "stream",
     "text": [
      "Classification Accuracy: 0.9768578258202356\n",
      "Classification Error: 0.023142174179764385\n",
      "False Positive Rate: 0.022958112985813815\n",
      "Precision: 0.9766707894400136\n",
      "AUC Score: 0.9768563382270999\n",
      "Cross-validated AUC: 0.9774305207188428\n",
      "First 10 predicted responses:\n",
      " [1 0 0 1 1 0 0 1 1 1]\n",
      "First 10 predicted probabilities of class members:\n",
      " [[0.         1.        ]\n",
      " [0.5        0.5       ]\n",
      " [0.95875    0.04125   ]\n",
      " [0.06       0.94      ]\n",
      " [0.         1.        ]\n",
      " [1.         0.        ]\n",
      " [1.         0.        ]\n",
      " [0.06666667 0.93333333]\n",
      " [0.02       0.98      ]\n",
      " [0.01333333 0.98666667]]\n",
      "First 10 predicted probabilities:\n",
      " [1.         0.5        0.04125    0.94       1.         0.\n",
      " 0.         0.93333333 0.98       0.98666667]\n"
     ]
    },
    {
     "data": {
      "image/png": "[encoded data removed]",
      "text/plain": [
       "<matplotlib.figure.Figure at 0x1a216008d0>"
      ]
     },
     "metadata": {},
     "output_type": "display_data"
    },
    {
     "data": {
      "image/png": "[encoded data removed]",
      "text/plain": [
       "<matplotlib.figure.Figure at 0x1a1f484cc0>"
      ]
     },
     "metadata": {},
     "output_type": "display_data"
    }
   ],
   "source": [
    "y = pd.Series(y)\n",
    "res = pd.Series(res)\n",
    "evalClassModel(clf, y, res, plot=True)"
   ]
  }
 ],
 "metadata": {
  "kernelspec": {
   "display_name": "Python 3",
   "language": "python",
   "name": "python3"
  },
  "language_info": {
   "codemirror_mode": {
    "name": "ipython",
    "version": 3
   },
   "file_extension": ".py",
   "mimetype": "text/x-python",
   "name": "python",
   "nbconvert_exporter": "python",
   "pygments_lexer": "ipython3",
   "version": "3.6.6"
  }
 },
 "nbformat": 4,
 "nbformat_minor": 2
}
